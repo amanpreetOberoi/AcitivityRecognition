{
 "cells": [
  {
   "cell_type": "code",
   "execution_count": 1,
   "id": "6c32b3e2",
   "metadata": {},
   "outputs": [],
   "source": [
    "import pandas as pd\n",
    "import os\n",
    "import csv"
   ]
  },
  {
   "cell_type": "code",
   "execution_count": 2,
   "id": "19813898",
   "metadata": {},
   "outputs": [
    {
     "name": "stderr",
     "output_type": "stream",
     "text": [
      "b'Skipping line 485: expected 7 fields, saw 8\\n'\n",
      "b'Skipping line 485: expected 7 fields, saw 8\\n'\n"
     ]
    }
   ],
   "source": [
    "activities=['bending1','bending2','cycling','lying','sitting','standing','walking']\n",
    "header=['Columns: time','avg_rss12','var_rss12','avg_rss13','var_rss13','avg_rss23','var_rss23','Activity']\n",
    "path=\"D:\\Machine Learning\\ActivityRecognition\\AReM\"\n",
    "all_csv=[]\n",
    "for activity in activities:\n",
    "    fullpath=os.path.join(path,activity)\n",
    "    for f in os.listdir(fullpath):\n",
    "        paths=os.path.join(fullpath,f)\n",
    "        df=pd.read_csv(paths,skiprows=5,error_bad_lines=False,header=None)\n",
    "        df[7]=activity\n",
    "        all_csv.append(df)\n",
    "main_df=pd.DataFrame(pd.concat(all_csv,sort=False,axis = 0,ignore_index=True))\n",
    "main_df.columns=header\n",
    "main_df.to_csv(\"Activity.csv\")"
   ]
  },
  {
   "cell_type": "code",
   "execution_count": null,
   "id": "b76a4cf2",
   "metadata": {},
   "outputs": [],
   "source": []
  }
 ],
 "metadata": {
  "kernelspec": {
   "display_name": "Python 3",
   "language": "python",
   "name": "python3"
  },
  "language_info": {
   "codemirror_mode": {
    "name": "ipython",
    "version": 3
   },
   "file_extension": ".py",
   "mimetype": "text/x-python",
   "name": "python",
   "nbconvert_exporter": "python",
   "pygments_lexer": "ipython3",
   "version": "3.8.8"
  }
 },
 "nbformat": 4,
 "nbformat_minor": 5
}
